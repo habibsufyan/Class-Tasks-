{
  "nbformat": 4,
  "nbformat_minor": 0,
  "metadata": {
    "colab": {
      "provenance": [],
      "toc_visible": true
    },
    "kernelspec": {
      "name": "python3",
      "display_name": "Python 3"
    },
    "language_info": {
      "name": "python"
    }
  },
  "cells": [
    {
      "cell_type": "code",
      "execution_count": 4,
      "metadata": {
        "colab": {
          "base_uri": "https://localhost:8080/"
        },
        "id": "jfgbJ77XTkrm",
        "outputId": "2a5e24e9-0262-499c-8faa-fb6080a098fb"
      },
      "outputs": [
        {
          "output_type": "stream",
          "name": "stdout",
          "text": [
            "Pakistan Zindabad\n",
            "Pakistan Zindabad\n"
          ]
        }
      ],
      "source": [
        "zoom = \"Pakistan Zindabad\"\n",
        "print (zoom)\n",
        "print (zoom)"
      ]
    },
    {
      "cell_type": "code",
      "source": [
        "zoom = \"Pakistan Zindabad\"\n",
        "print (zoom)\n",
        "print (type(zoom))\n",
        "type (zoom)"
      ],
      "metadata": {
        "colab": {
          "base_uri": "https://localhost:8080/"
        },
        "id": "2HZ7IjCAWU02",
        "outputId": "39e574c0-7da4-40a6-cb3e-01bef4c4c04d"
      },
      "execution_count": 8,
      "outputs": [
        {
          "output_type": "stream",
          "name": "stdout",
          "text": [
            "Pakistan Zindabad\n",
            "<class 'str'>\n"
          ]
        },
        {
          "output_type": "execute_result",
          "data": {
            "text/plain": [
              "str"
            ]
          },
          "metadata": {},
          "execution_count": 8
        }
      ]
    },
    {
      "cell_type": "code",
      "source": [
        "zoom = \"Pakistan Zindabad 123 $$^7^%\"\n",
        "print (zoom)\n",
        "print (type(zoom))\n",
        "type (zoom)"
      ],
      "metadata": {
        "colab": {
          "base_uri": "https://localhost:8080/"
        },
        "id": "G3qKKHghXIjf",
        "outputId": "f4ec24f3-fd93-45b8-8c7c-e2a3cbd9c06e"
      },
      "execution_count": 10,
      "outputs": [
        {
          "output_type": "stream",
          "name": "stdout",
          "text": [
            "Pakistan Zindabad 123 $$^7^%\n",
            "<class 'str'>\n"
          ]
        },
        {
          "output_type": "execute_result",
          "data": {
            "text/plain": [
              "str"
            ]
          },
          "metadata": {},
          "execution_count": 10
        }
      ]
    },
    {
      "cell_type": "code",
      "source": [
        "zoom = \"Pakistan Zindabad 123 $$^7^%\" Hello world\"\n",
        "print (zoom)\n",
        "print (type(zoom))\n",
        "type (zoom)"
      ],
      "metadata": {
        "colab": {
          "base_uri": "https://localhost:8080/",
          "height": 140
        },
        "id": "-SlC_KNjXtKf",
        "outputId": "c1a23b07-3ecd-40b6-e034-8c54918b99e4"
      },
      "execution_count": 13,
      "outputs": [
        {
          "output_type": "error",
          "ename": "SyntaxError",
          "evalue": "ignored",
          "traceback": [
            "\u001b[0;36m  File \u001b[0;32m\"<ipython-input-13-19823abbbbab>\"\u001b[0;36m, line \u001b[0;32m1\u001b[0m\n\u001b[0;31m    zoom = \"Pakistan Zindabad 123 $$^7^%\" Hello world\"\u001b[0m\n\u001b[0m                                                     ^\u001b[0m\n\u001b[0;31mSyntaxError\u001b[0m\u001b[0;31m:\u001b[0m unterminated string literal (detected at line 1)\n"
          ]
        }
      ]
    },
    {
      "cell_type": "code",
      "source": [
        "zoom = 'Pakistan Zindabad 123 $$^7^%   \" Hello world'\n",
        "print (zoom)\n",
        "print (type(zoom))\n",
        "type (zoom)"
      ],
      "metadata": {
        "colab": {
          "base_uri": "https://localhost:8080/"
        },
        "id": "0Qzp-nebYOAL",
        "outputId": "3d44d8c4-19f0-42af-9fc1-54ae9437ab45"
      },
      "execution_count": 15,
      "outputs": [
        {
          "output_type": "stream",
          "name": "stdout",
          "text": [
            "Pakistan Zindabad 123 $$^7^%   \" Hello world\n",
            "<class 'str'>\n"
          ]
        },
        {
          "output_type": "execute_result",
          "data": {
            "text/plain": [
              "str"
            ]
          },
          "metadata": {},
          "execution_count": 15
        }
      ]
    },
    {
      "cell_type": "code",
      "source": [
        "zoom = \"Pakistan Zindabad 123 $$^7^%   '  Hello world\"\n",
        "print (zoom)\n",
        "print (type(zoom))\n",
        "type (zoom)"
      ],
      "metadata": {
        "colab": {
          "base_uri": "https://localhost:8080/"
        },
        "id": "U5qLdIXXYXTF",
        "outputId": "daf971e8-4b08-436d-ca8d-9d55d2eba05b"
      },
      "execution_count": 17,
      "outputs": [
        {
          "output_type": "stream",
          "name": "stdout",
          "text": [
            "Pakistan Zindabad 123 $$^7^%   '  Hello world\n",
            "<class 'str'>\n"
          ]
        },
        {
          "output_type": "execute_result",
          "data": {
            "text/plain": [
              "str"
            ]
          },
          "metadata": {},
          "execution_count": 17
        }
      ]
    },
    {
      "cell_type": "code",
      "source": [
        "zoom = \"Pakistan Zindabad 123   \"  $$^7^%   '  Hello world\"\n",
        "print (zoom)\n",
        "print (type(zoom))\n",
        "type (zoom)"
      ],
      "metadata": {
        "colab": {
          "base_uri": "https://localhost:8080/",
          "height": 140
        },
        "id": "gfcvAZjdYmlY",
        "outputId": "deef97a8-0b84-4698-bdd5-5211994a6f09"
      },
      "execution_count": 18,
      "outputs": [
        {
          "output_type": "error",
          "ename": "SyntaxError",
          "evalue": "ignored",
          "traceback": [
            "\u001b[0;36m  File \u001b[0;32m\"<ipython-input-18-cd2a1bb9e7b9>\"\u001b[0;36m, line \u001b[0;32m1\u001b[0m\n\u001b[0;31m    zoom = \"Pakistan Zindabad 123   \"  $$^7^%   '  Hello world\"\u001b[0m\n\u001b[0m                                                ^\u001b[0m\n\u001b[0;31mSyntaxError\u001b[0m\u001b[0;31m:\u001b[0m unterminated string literal (detected at line 1)\n"
          ]
        }
      ]
    },
    {
      "cell_type": "markdown",
      "source": [
        "**Convert Special Character in Normal Character**\n",
        "* Place \\ before any special character\n",
        "\n",
        "\n",
        "\n",
        "\n"
      ],
      "metadata": {
        "id": "WHvB3lytZAt1"
      }
    },
    {
      "cell_type": "code",
      "source": [
        "zoom = \"Pakistan Zindabad 123   \\\"  $$^7^%   '  Hello world\"\n",
        "print (zoom)\n",
        "print (type(zoom))\n",
        "type (zoom)"
      ],
      "metadata": {
        "colab": {
          "base_uri": "https://localhost:8080/"
        },
        "id": "ubPsfZBTZ2uX",
        "outputId": "d010365b-3594-4ea9-d342-2cb1900522ff"
      },
      "execution_count": 19,
      "outputs": [
        {
          "output_type": "stream",
          "name": "stdout",
          "text": [
            "Pakistan Zindabad 123   \"  $$^7^%   '  Hello world\n",
            "<class 'str'>\n"
          ]
        },
        {
          "output_type": "execute_result",
          "data": {
            "text/plain": [
              "str"
            ]
          },
          "metadata": {},
          "execution_count": 19
        }
      ]
    },
    {
      "cell_type": "markdown",
      "source": [
        "#Assign multi line string"
      ],
      "metadata": {
        "id": "i2qkRMJ7aPh2"
      }
    },
    {
      "cell_type": "code",
      "source": [
        "a = \"Line 1 My name is Habib\"\\\n",
        "\"Line 2 I am an engineer\"\\\n",
        "\"Line 3 I live in Karachi\"\n",
        "\n",
        "print (a)\n",
        "print (type(a))"
      ],
      "metadata": {
        "colab": {
          "base_uri": "https://localhost:8080/"
        },
        "id": "UHeVrYn_ankS",
        "outputId": "13984383-7b3b-40f2-8c78-b76f43dab411"
      },
      "execution_count": 21,
      "outputs": [
        {
          "output_type": "stream",
          "name": "stdout",
          "text": [
            "Line 1 My name is HabibLine 2 I am an engineerLine 3 I live in Karachi\n",
            "<class 'str'>\n"
          ]
        }
      ]
    },
    {
      "cell_type": "code",
      "source": [
        "a = \"My name is Habib,\"\\\n",
        "\"I am an engineer,\"\\\n",
        "\"I live in Karachi\"\n",
        "\n",
        "print (a)\n",
        "print (type(a))"
      ],
      "metadata": {
        "colab": {
          "base_uri": "https://localhost:8080/"
        },
        "id": "Abn85o7abv4n",
        "outputId": "02f819ac-ffee-468c-b0db-0a3ad1808f09"
      },
      "execution_count": 22,
      "outputs": [
        {
          "output_type": "stream",
          "name": "stdout",
          "text": [
            "My name is Habib,I am an engineer,I live in Karachi\n",
            "<class 'str'>\n"
          ]
        }
      ]
    },
    {
      "cell_type": "code",
      "source": [
        "a = \"\"\"My name is Habib,\"\\\n",
        "\"I am an engineer,\"\\\n",
        "\"I live in Karachi\"\"\"\n",
        "\n",
        "print (a)"
      ],
      "metadata": {
        "colab": {
          "base_uri": "https://localhost:8080/"
        },
        "id": "FaXszauPcEsW",
        "outputId": "6653896a-b3e9-40dd-d5a3-1eb8bded2ea9"
      },
      "execution_count": 23,
      "outputs": [
        {
          "output_type": "stream",
          "name": "stdout",
          "text": [
            "My name is Habib,\"\"I am an engineer,\"\"I live in Karachi\n"
          ]
        }
      ]
    },
    {
      "cell_type": "code",
      "source": [
        "a = \"\"\"My name is Habib,\"\n",
        "\"I am an engineer,\"\n",
        "\"I live in Karachi\"\"\"\n",
        "\n",
        "print (a)"
      ],
      "metadata": {
        "colab": {
          "base_uri": "https://localhost:8080/"
        },
        "id": "gOB8VtrPca3J",
        "outputId": "485a0503-2d33-4305-a1d5-c8d29bbb4429"
      },
      "execution_count": 25,
      "outputs": [
        {
          "output_type": "stream",
          "name": "stdout",
          "text": [
            "My name is Habib,\"\n",
            "\"I am an engineer,\"\n",
            "\"I live in Karachi\n"
          ]
        }
      ]
    },
    {
      "cell_type": "code",
      "source": [
        "a = \"\"\"My name is Habib\n",
        "I am an engineer\n",
        "I live in Karachi\"\"\"\n",
        "\n",
        "print (a)"
      ],
      "metadata": {
        "colab": {
          "base_uri": "https://localhost:8080/"
        },
        "id": "Sjmm5t2WclWH",
        "outputId": "57e56672-2917-406f-bc82-a20dd775a8df"
      },
      "execution_count": 26,
      "outputs": [
        {
          "output_type": "stream",
          "name": "stdout",
          "text": [
            "My name is Habib\n",
            "I am an engineer\n",
            "I live in Karachi\n"
          ]
        }
      ]
    },
    {
      "cell_type": "code",
      "source": [
        "a = \"\"\"My name is Habib\n",
        "I am an engineer\n",
        "I live in Karachi\"\"\"\n",
        "\n",
        "a"
      ],
      "metadata": {
        "colab": {
          "base_uri": "https://localhost:8080/",
          "height": 35
        },
        "id": "klAPc4C5dKtG",
        "outputId": "c9e9d194-038b-4cda-8189-434ae96718b7"
      },
      "execution_count": 28,
      "outputs": [
        {
          "output_type": "execute_result",
          "data": {
            "text/plain": [
              "'My name is Habib\\nI am an engineer\\nI live in Karachi'"
            ],
            "application/vnd.google.colaboratory.intrinsic+json": {
              "type": "string"
            }
          },
          "metadata": {},
          "execution_count": 28
        }
      ]
    },
    {
      "cell_type": "code",
      "source": [
        "a = '''My name is Habib\n",
        "I am an engineer\n",
        "I live in Karachi'''\n",
        "\n",
        "print (a)"
      ],
      "metadata": {
        "colab": {
          "base_uri": "https://localhost:8080/"
        },
        "id": "U_FihClieg1w",
        "outputId": "8974ec10-e0b8-4226-cdf6-cb84089ce5a6"
      },
      "execution_count": 32,
      "outputs": [
        {
          "output_type": "stream",
          "name": "stdout",
          "text": [
            "My name is Habib\n",
            "I am an engineer\n",
            "I live in Karachi\n"
          ]
        }
      ]
    },
    {
      "cell_type": "markdown",
      "source": [
        "# Concatenation & Text Formation"
      ],
      "metadata": {
        "id": "JuFBLj4Qf5H6"
      }
    },
    {
      "cell_type": "code",
      "source": [
        "\"2\" + 3"
      ],
      "metadata": {
        "colab": {
          "base_uri": "https://localhost:8080/",
          "height": 175
        },
        "id": "IBXoMcPEf-p1",
        "outputId": "d1a45c03-5884-44aa-ec64-ef8c3d72ac4b"
      },
      "execution_count": 34,
      "outputs": [
        {
          "output_type": "error",
          "ename": "TypeError",
          "evalue": "ignored",
          "traceback": [
            "\u001b[0;31m---------------------------------------------------------------------------\u001b[0m",
            "\u001b[0;31mTypeError\u001b[0m                                 Traceback (most recent call last)",
            "\u001b[0;32m<ipython-input-34-2091ad1d69ef>\u001b[0m in \u001b[0;36m<cell line: 1>\u001b[0;34m()\u001b[0m\n\u001b[0;32m----> 1\u001b[0;31m \u001b[0;34m\"2\"\u001b[0m \u001b[0;34m+\u001b[0m \u001b[0;36m3\u001b[0m\u001b[0;34m\u001b[0m\u001b[0;34m\u001b[0m\u001b[0m\n\u001b[0m",
            "\u001b[0;31mTypeError\u001b[0m: can only concatenate str (not \"int\") to str"
          ]
        }
      ]
    },
    {
      "cell_type": "code",
      "source": [
        "\"2\" + '3'"
      ],
      "metadata": {
        "colab": {
          "base_uri": "https://localhost:8080/",
          "height": 35
        },
        "id": "_SgOmbOag7_Z",
        "outputId": "f07846dc-4cc5-419a-c22c-b3fae2bfb80b"
      },
      "execution_count": 35,
      "outputs": [
        {
          "output_type": "execute_result",
          "data": {
            "text/plain": [
              "'23'"
            ],
            "application/vnd.google.colaboratory.intrinsic+json": {
              "type": "string"
            }
          },
          "metadata": {},
          "execution_count": 35
        }
      ]
    },
    {
      "cell_type": "code",
      "source": [
        "2 + 5"
      ],
      "metadata": {
        "colab": {
          "base_uri": "https://localhost:8080/"
        },
        "id": "mf4wITb4hJdm",
        "outputId": "29f94b2f-50c3-4612-b457-b4f67c9c2250"
      },
      "execution_count": 36,
      "outputs": [
        {
          "output_type": "execute_result",
          "data": {
            "text/plain": [
              "7"
            ]
          },
          "metadata": {},
          "execution_count": 36
        }
      ]
    },
    {
      "cell_type": "code",
      "source": [
        "a = input('No 1:')\n",
        "b = input('No 2:')\n",
        "print (a+b)"
      ],
      "metadata": {
        "colab": {
          "base_uri": "https://localhost:8080/"
        },
        "id": "_WP_cmtGh2ol",
        "outputId": "18f3e277-bb93-494b-a6cc-4dcb26601f14"
      },
      "execution_count": 38,
      "outputs": [
        {
          "output_type": "stream",
          "name": "stdout",
          "text": [
            "No 1:24\n",
            "No 2:23\n",
            "2423\n"
          ]
        }
      ]
    },
    {
      "cell_type": "code",
      "source": [
        "a = input('Name 1:')\n",
        "b = input('Name 2:')\n",
        "print (a+b)"
      ],
      "metadata": {
        "colab": {
          "base_uri": "https://localhost:8080/"
        },
        "id": "tf2j8fPGjPXo",
        "outputId": "fdce4850-1310-4e59-99a7-cc2ab8bb0194"
      },
      "execution_count": 40,
      "outputs": [
        {
          "output_type": "stream",
          "name": "stdout",
          "text": [
            "Name 1:Habib ur Rehman \n",
            "Name 2:Sufyan\n",
            "Habib ur Rehman Sufyan\n"
          ]
        }
      ]
    },
    {
      "cell_type": "markdown",
      "source": [
        "# Type Casting"
      ],
      "metadata": {
        "id": "6js26VaTi44m"
      }
    },
    {
      "cell_type": "code",
      "source": [
        "a = \"6\"\n",
        "\n",
        "print (a, type(a))"
      ],
      "metadata": {
        "colab": {
          "base_uri": "https://localhost:8080/"
        },
        "id": "92FtYd8FkVkS",
        "outputId": "f763216b-e441-49e9-8c19-a0d7c04e7447"
      },
      "execution_count": 43,
      "outputs": [
        {
          "output_type": "stream",
          "name": "stdout",
          "text": [
            "6 <class 'str'>\n"
          ]
        }
      ]
    },
    {
      "cell_type": "code",
      "source": [
        "a = \"6\"\n",
        "print (a, type(a))\n",
        "\n",
        "\n",
        "a = int(6)\n",
        "print (a, type(a))\n",
        "\n",
        "a = float(6)\n",
        "print (a, type(a))"
      ],
      "metadata": {
        "colab": {
          "base_uri": "https://localhost:8080/"
        },
        "id": "VOxgNDgSkhlT",
        "outputId": "0d9c7979-3214-458b-8b32-a4f954706009"
      },
      "execution_count": 46,
      "outputs": [
        {
          "output_type": "stream",
          "name": "stdout",
          "text": [
            "6 <class 'str'>\n",
            "6 <class 'int'>\n",
            "6.0 <class 'float'>\n"
          ]
        }
      ]
    },
    {
      "cell_type": "code",
      "source": [
        "a = input('No 1:')\n",
        "b = input('No 2:')\n",
        "print (int(a)+int(b))"
      ],
      "metadata": {
        "colab": {
          "base_uri": "https://localhost:8080/"
        },
        "id": "tlJc2x2rlt9K",
        "outputId": "39727316-9bbc-4fe0-90c5-a3f426c585dc"
      },
      "execution_count": 47,
      "outputs": [
        {
          "output_type": "stream",
          "name": "stdout",
          "text": [
            "No 1:24\n",
            "No 2:25\n",
            "49\n"
          ]
        }
      ]
    },
    {
      "cell_type": "code",
      "source": [
        "a = input('No 1:')\n",
        "b = input('No 2:')\n",
        "print (int(a)/int(b))"
      ],
      "metadata": {
        "colab": {
          "base_uri": "https://localhost:8080/"
        },
        "id": "aSbGMU2KpSeL",
        "outputId": "a5074f4e-3699-4a5e-e500-e93deabf6e5e"
      },
      "execution_count": 48,
      "outputs": [
        {
          "output_type": "stream",
          "name": "stdout",
          "text": [
            "No 1:9\n",
            "No 2:2\n",
            "4.5\n"
          ]
        }
      ]
    },
    {
      "cell_type": "code",
      "source": [
        "1 + int(\"2\")"
      ],
      "metadata": {
        "colab": {
          "base_uri": "https://localhost:8080/"
        },
        "id": "krBbJdTLr8Gp",
        "outputId": "864b75a5-5f58-4b09-b08e-3509c00b130b"
      },
      "execution_count": 50,
      "outputs": [
        {
          "output_type": "execute_result",
          "data": {
            "text/plain": [
              "3"
            ]
          },
          "metadata": {},
          "execution_count": 50
        }
      ]
    },
    {
      "cell_type": "code",
      "source": [
        "\"1\" + str(2)"
      ],
      "metadata": {
        "colab": {
          "base_uri": "https://localhost:8080/",
          "height": 35
        },
        "id": "a-TENObHsVSo",
        "outputId": "a7f712cc-a272-4993-fef8-b5a13c773531"
      },
      "execution_count": 54,
      "outputs": [
        {
          "output_type": "execute_result",
          "data": {
            "text/plain": [
              "'12'"
            ],
            "application/vnd.google.colaboratory.intrinsic+json": {
              "type": "string"
            }
          },
          "metadata": {},
          "execution_count": 54
        }
      ]
    },
    {
      "cell_type": "code",
      "source": [
        "\n",
        "name = \"Habib ur Rehman Sufyan\"\n",
        "roll_No = 184\n",
        "University = \"NED\"\n",
        "\n",
        "card = \"Student Name:\" + name + \"\\nStudnt Roll No:\" + str(roll_No) + \"\\nUniversity Name:\" + University\n",
        "\n",
        "\n",
        "print (card)"
      ],
      "metadata": {
        "colab": {
          "base_uri": "https://localhost:8080/"
        },
        "id": "CnIkWGWrtr_E",
        "outputId": "bd7d9944-2a6a-43a7-fdbe-29cd48afbd4f"
      },
      "execution_count": 74,
      "outputs": [
        {
          "output_type": "stream",
          "name": "stdout",
          "text": [
            "Student Name:Habib ur Rehman Sufyan\n",
            "Studnt Roll No:184\n",
            "University Name:NED\n"
          ]
        }
      ]
    },
    {
      "cell_type": "code",
      "source": [
        "card = \"\"\"Student Name:\\t\\tHabib ur Rehman Sufyan\n",
        "Studnt Roll No:\\t\\t184\n",
        "University Name:\\tNED\"\"\"\n",
        "\n",
        "print (card)"
      ],
      "metadata": {
        "colab": {
          "base_uri": "https://localhost:8080/"
        },
        "id": "-ZReCkq3zrd4",
        "outputId": "a43f02b7-8387-49bf-fbd1-d691fc944eba"
      },
      "execution_count": 79,
      "outputs": [
        {
          "output_type": "stream",
          "name": "stdout",
          "text": [
            "Student Name:\t\tHabib ur Rehman Sufyan\n",
            "Studnt Roll No:\t\t184\n",
            "University Name:\tNED\n"
          ]
        }
      ]
    },
    {
      "cell_type": "code",
      "source": [
        "a = \"Habib ur Rehman Sufyan\"\n",
        "b = 184\n",
        "\n",
        "card = \"\"\"Student Name:\\t\\t{}\n",
        "Studnt Roll No:\\t\\t{}\n",
        "University Name:\\tNED\"\"\".format(a,b)\n",
        "print (card)"
      ],
      "metadata": {
        "colab": {
          "base_uri": "https://localhost:8080/"
        },
        "id": "5ohPRUkP0d_J",
        "outputId": "163fd044-b309-4daf-d01a-41ed7c3bc484"
      },
      "execution_count": 89,
      "outputs": [
        {
          "output_type": "stream",
          "name": "stdout",
          "text": [
            "Student Name:\t\tHabib ur Rehman Sufyan\n",
            "Studnt Roll No:\t\t184\n",
            "University Name:\tNED\n"
          ]
        }
      ]
    },
    {
      "cell_type": "code",
      "source": [
        "name = \"Habib ur Rehman Sufyan\"\n",
        "roll_No = 184\n",
        "University = \"NED\"\n",
        "\n",
        "card = f\"\"\"Student Name:\\t\\t{name}\n",
        "Studnt Roll No:\\t\\t{roll_No}\n",
        "University Name:\\t{University}\"\"\"\n",
        "\n",
        "print (card)"
      ],
      "metadata": {
        "colab": {
          "base_uri": "https://localhost:8080/"
        },
        "id": "aN3-eyQx4SuU",
        "outputId": "8ac75d5a-fdf1-48c2-c726-9543964959c4"
      },
      "execution_count": 90,
      "outputs": [
        {
          "output_type": "stream",
          "name": "stdout",
          "text": [
            "Student Name:\t\tHabib ur Rehman Sufyan\n",
            "Studnt Roll No:\t\t184\n",
            "University Name:\tNED\n"
          ]
        }
      ]
    },
    {
      "cell_type": "code",
      "source": [
        "name = input(\"name:\")\n",
        "roll_No = input(\"roll-no:\")\n",
        "University = input(\"University:\")\n",
        "\n"
      ],
      "metadata": {
        "colab": {
          "base_uri": "https://localhost:8080/"
        },
        "id": "v_o4crpA5hKU",
        "outputId": "ef7c3b80-ae4e-45db-87aa-987c4b2ffa6d"
      },
      "execution_count": 93,
      "outputs": [
        {
          "name": "stdout",
          "output_type": "stream",
          "text": [
            "name:Habib\n",
            "roll-no:84\n",
            "University:NED\n"
          ]
        }
      ]
    },
    {
      "cell_type": "code",
      "source": [
        "name = input(\"Name:\")\n",
        "roll_No = input(\"Roll_No:\")\n",
        "University = input(\"Univeristy Name:\")\n",
        "\n",
        "card = f\"\"\"Student Name:\\t\\t{name}\n",
        "Studnt Roll No:\\t\\t{roll_No}\n",
        "University Name:\\t{University}\"\"\"\n",
        "\n",
        "print (card)"
      ],
      "metadata": {
        "colab": {
          "base_uri": "https://localhost:8080/"
        },
        "id": "Q7E6HAex60Tl",
        "outputId": "ae8633d1-8649-41a4-f816-7d424fa8e860"
      },
      "execution_count": 95,
      "outputs": [
        {
          "output_type": "stream",
          "name": "stdout",
          "text": [
            "Name:Sufyan\n",
            "Roll_No:15\n",
            "Univeristy Name:NED\n",
            "Student Name:\t\tSufyan\n",
            "Studnt Roll No:\t\t15\n",
            "University Name:\tNED\n"
          ]
        }
      ]
    }
  ]
}