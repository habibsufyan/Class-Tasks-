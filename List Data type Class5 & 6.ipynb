{
 "cells": [
  {
   "cell_type": "code",
   "execution_count": 1,
   "id": "4dd0e4d8-fd1b-4d88-beb2-55258050e6e1",
   "metadata": {
    "tags": []
   },
   "outputs": [
    {
     "name": "stdout",
     "output_type": "stream",
     "text": [
      "Rehan\n",
      "Farhan\n",
      "Fahad\n",
      "Sufyan\n"
     ]
    }
   ],
   "source": [
    "s1_name = \"Rehan\"\n",
    "s2_name = \"Farhan\"\n",
    "s3_name = \"Fahad\"\n",
    "s4_name = \"Sufyan\"\n",
    "\n",
    "print(s1_name)\n",
    "print(s2_name)\n",
    "print(s3_name)\n",
    "print(s4_name)"
   ]
  },
  {
   "cell_type": "markdown",
   "id": "13d9e7c6-3532-4eca-a8c9-791b0aa82fcb",
   "metadata": {},
   "source": [
    "# List Data Types\n",
    "\n",
    "* Hetrogenous Data type\n",
    "* Dynamic length\n",
    "* Dynamic Memory management\n",
    "\n",
    "## Syntax:\n",
    "\n",
    "## ````[element1, element2, element3...]```"
   ]
  },
  {
   "cell_type": "code",
   "execution_count": 2,
   "id": "2646f5fd-6f23-4ebf-82c1-11df7c5a8cc9",
   "metadata": {
    "tags": []
   },
   "outputs": [
    {
     "name": "stdout",
     "output_type": "stream",
     "text": [
      "['Rehan', 'Farhan', 'Fahad', 'Sufyan']\n"
     ]
    }
   ],
   "source": [
    "#  ->      0        1         2        3\n",
    "names = [\"Rehan\", \"Farhan\", \"Fahad\", \"Sufyan\"]\n",
    "#  ->     -4         -3          -2       -1            \n",
    "\n",
    "names"
   ]
  },
  {
   "cell_type": "markdown",
   "id": "27cbc40e-410e-4b3d-a7a9-f352838d49e4",
   "metadata": {},
   "source": [
    "# Extract value from iterative data type with index position\n",
    "## Syntax: list_varibale[index]"
   ]
  },
  {
   "cell_type": "code",
   "execution_count": 8,
   "id": "91f1d98d-cd36-4d9b-866b-1b8829f5bc33",
   "metadata": {
    "tags": []
   },
   "outputs": [
    {
     "name": "stdout",
     "output_type": "stream",
     "text": [
      "Please insert name with ',' seperation: Rehan, Sufyan, Ahmed, Fahad\n"
     ]
    },
    {
     "data": {
      "text/plain": [
       "['Rehan', ' Sufyan', ' Ahmed', ' Fahad']"
      ]
     },
     "execution_count": 8,
     "metadata": {},
     "output_type": "execute_result"
    }
   ],
   "source": [
    "names = input(\"Please insert name with ',' seperation: \")\n",
    "\n",
    "names.split(\",\")"
   ]
  },
  {
   "cell_type": "code",
   "execution_count": 14,
   "id": "a88bef2a-9708-46ce-bc49-7016ac54466d",
   "metadata": {},
   "outputs": [
    {
     "name": "stdout",
     "output_type": "stream",
     "text": [
      "Farhan\n",
      "Farhan\n"
     ]
    }
   ],
   "source": [
    "#  ->      0        1         2        3\n",
    "names = [\"Rehan\", \"Farhan\", \"Fahad\", \"Sufyan\"]\n",
    "#  ->     -4         -3          -2       -1            \n",
    "\n",
    "print(names[1])\n",
    "print (names[-3])"
   ]
  },
  {
   "cell_type": "markdown",
   "id": "b3bec078",
   "metadata": {},
   "source": [
    "# Slicing on List\n",
    "\n",
    "* Syntax : List_Variable[start:end:step]\n",
    "* start = this number will be included\n",
    "* end = excluded -1\n",
    "* step = sequence/gap"
   ]
  },
  {
   "cell_type": "code",
   "execution_count": 1,
   "id": "a9c8205c",
   "metadata": {},
   "outputs": [
    {
     "name": "stdout",
     "output_type": "stream",
     "text": [
      "['a', 'b', 'c', 'd', 'e', 'f', 'g', 'h', 'i', 'j', 'k', 'l']\n"
     ]
    }
   ],
   "source": [
    "alphabet = list(\"abcdefghijkl\")\n",
    "\n",
    "print (alphabet)"
   ]
  },
  {
   "cell_type": "code",
   "execution_count": 20,
   "id": "1b99f460",
   "metadata": {},
   "outputs": [
    {
     "name": "stdout",
     "output_type": "stream",
     "text": [
      "[1, 2, 3, 4, 5, 6, 7, 8, 9, 10, 11, 12, 13, 14, 15, 16, 17, 18]\n",
      "[2]\n",
      "[2, 3, 4, 5, 6, 7]\n",
      "[1, 2, 3, 4, 5, 6, 7, 8, 9, 10, 11, 12, 13, 14, 15, 16, 17, 18]\n",
      "[1, 3, 5, 7, 9, 11, 13, 15, 17]\n",
      "[1, 4, 7, 10, 13, 16]\n",
      "[17, 16, 15, 14, 13, 12, 11, 10, 9, 8, 7, 6, 5, 4]\n",
      "[17, 15, 13, 11, 9, 7, 5]\n"
     ]
    }
   ],
   "source": [
    "a = list(range(1,19))\n",
    "\n",
    "print (a)\n",
    "print (a[1:2])\n",
    "print (a[1:7])\n",
    "print (a[::])\n",
    "print (a[0:17:2])\n",
    "print (a[0:17:3])\n",
    "\n",
    "print (a[-2:-16:-1])\n",
    "print (a[-2:-16:-2])"
   ]
  },
  {
   "cell_type": "code",
   "execution_count": 33,
   "id": "b9bd9015",
   "metadata": {},
   "outputs": [
    {
     "data": {
      "text/plain": [
       "[[1, 2, 3, 4, 5, 6, 7, 8, 9, 10],\n",
       " [11, 12, 13, 14, 15, 16, 17, 18, 19, 20],\n",
       " [21, 22, 23, 24, 25, 26, 27, 28, 29, 30],\n",
       " [31, 32, 33, 34, 35, 36, 37, 38, 39, 40],\n",
       " [41, 42, 43, 44, 45, 46, 47, 48, 49, 50],\n",
       " [51, 52, 53, 54, 55, 56, 57, 58, 59, 60],\n",
       " [61, 62, 63, 64, 65, 66, 67, 68, 69, 70],\n",
       " [71, 72, 73, 74, 75, 76, 77, 78, 79, 80],\n",
       " [81, 82, 83, 84, 85, 86, 87, 88, 89, 90],\n",
       " [91, 92, 93, 94, 95, 96, 97, 98, 99, 100]]"
      ]
     },
     "execution_count": 33,
     "metadata": {},
     "output_type": "execute_result"
    }
   ],
   "source": [
    "import numpy as np\n",
    "\n",
    "a = np.arange(1,101).reshape(10,10).tolist()\n",
    "a"
   ]
  },
  {
   "cell_type": "code",
   "execution_count": 34,
   "id": "aeb413c3",
   "metadata": {},
   "outputs": [
    {
     "data": {
      "text/plain": [
       "[[1, 2, 3, 4, 5, 6, 7, 8, 9, 10],\n",
       " [11, 12, 13, 14, 15, 16, 17, 18, 19, 20],\n",
       " [21, 22, 23, 24, 25, 26, 27, 28, 29, 30],\n",
       " [31, 32, 33, 34, 35, 36, 37, 38, 39, 40],\n",
       " [41, 42, 43, 44, 45, 46, 47, 48, 49, 50],\n",
       " [51, 52, 53, 54, 55, 56, 57, 58, 59, 60],\n",
       " [61, 62, 63, 64, 65, 66, 67, 68, 69, 70],\n",
       " [71, 72, 73, 74, 75, 76, 77, 78, 79, 80],\n",
       " [81, 82, 83, 84, 85, 86, 87, 88, 89, 90],\n",
       " [91, 92, 93, 94, 95, 96, 97, 98, 99, 100]]"
      ]
     },
     "metadata": {},
     "output_type": "display_data"
    }
   ],
   "source": [
    "display(a)"
   ]
  },
  {
   "cell_type": "code",
   "execution_count": 36,
   "id": "d40ad8f7",
   "metadata": {},
   "outputs": [
    {
     "data": {
      "text/plain": [
       "[[1, 2, 3, 4, 5, 6, 7, 8, 9, 10],\n",
       " [11, 12, 13, 14, 15, 16, 17, 18, 19, 20],\n",
       " [21, 22, 23, 24, 25, 26, 27, 28, 29, 30],\n",
       " [31, 32, 33, 34, 35, 36, 37, 38, 39, 40],\n",
       " [41, 42, 43, 44, 45, 46, 47, 48, 49, 50]]"
      ]
     },
     "execution_count": 36,
     "metadata": {},
     "output_type": "execute_result"
    }
   ],
   "source": [
    "a[0:5:]"
   ]
  },
  {
   "cell_type": "code",
   "execution_count": 37,
   "id": "549819c9",
   "metadata": {},
   "outputs": [
    {
     "data": {
      "text/plain": [
       "[[6, 7, 8],\n",
       " [16, 17, 18],\n",
       " [26, 27, 28],\n",
       " [36, 37, 38],\n",
       " [46, 47, 48],\n",
       " [56, 57, 58],\n",
       " [66, 67, 68],\n",
       " [76, 77, 78],\n",
       " [86, 87, 88],\n",
       " [96, 97, 98]]"
      ]
     },
     "execution_count": 37,
     "metadata": {},
     "output_type": "execute_result"
    }
   ],
   "source": [
    "[i[5:8] for i in a]"
   ]
  },
  {
   "cell_type": "markdown",
   "id": "24b99b24",
   "metadata": {},
   "source": [
    "## End Extra code"
   ]
  },
  {
   "cell_type": "code",
   "execution_count": 39,
   "id": "28ac9598",
   "metadata": {},
   "outputs": [
    {
     "data": {
      "text/plain": [
       "[1, 2, 3, 4, 5, 6, 7, 8, 9, 10]"
      ]
     },
     "execution_count": 39,
     "metadata": {},
     "output_type": "execute_result"
    }
   ],
   "source": [
    "a = list(range(1,11))\n",
    "a"
   ]
  },
  {
   "cell_type": "code",
   "execution_count": 42,
   "id": "11a68d2b",
   "metadata": {},
   "outputs": [
    {
     "name": "stdout",
     "output_type": "stream",
     "text": [
      "a\n",
      "b\n",
      "c\n",
      "d\n",
      "e\n",
      "f\n"
     ]
    }
   ],
   "source": [
    "for i in \"abcdef\":\n",
    "    print(i)"
   ]
  },
  {
   "cell_type": "code",
   "execution_count": 43,
   "id": "e79ed923",
   "metadata": {},
   "outputs": [
    {
     "name": "stdout",
     "output_type": "stream",
     "text": [
      "hamza\n",
      "asif\n",
      "junaid\n"
     ]
    }
   ],
   "source": [
    "for i in ['hamza','asif','junaid']:\n",
    "    print(i)"
   ]
  },
  {
   "cell_type": "code",
   "execution_count": 44,
   "id": "17b4e318",
   "metadata": {},
   "outputs": [
    {
     "data": {
      "text/plain": [
       "['a', 'b', 'c', 'd', 'e', 'f']"
      ]
     },
     "execution_count": 44,
     "metadata": {},
     "output_type": "execute_result"
    }
   ],
   "source": [
    "[i for i in \"abcdef\"]"
   ]
  },
  {
   "cell_type": "code",
   "execution_count": 52,
   "id": "33fb4b13",
   "metadata": {},
   "outputs": [
    {
     "data": {
      "text/plain": [
       "['append',\n",
       " 'clear',\n",
       " 'copy',\n",
       " 'count',\n",
       " 'extend',\n",
       " 'index',\n",
       " 'insert',\n",
       " 'pop',\n",
       " 'remove',\n",
       " 'reverse',\n",
       " 'sort']"
      ]
     },
     "execution_count": 52,
     "metadata": {},
     "output_type": "execute_result"
    }
   ],
   "source": [
    "[i for i in dir(a) if \"__\" not in i]"
   ]
  },
  {
   "cell_type": "code",
   "execution_count": 59,
   "id": "cca09b21",
   "metadata": {},
   "outputs": [
    {
     "name": "stdout",
     "output_type": "stream",
     "text": [
      "[]\n",
      "['Qasim']\n",
      "['Qasim', 'Asif']\n",
      "['Qasim', 'Asif', 'Hamza']\n"
     ]
    }
   ],
   "source": [
    "names = []\n",
    "print(names)\n",
    "names.append(\"Qasim\")\n",
    "print(names)\n",
    "names.append(\"Asif\")\n",
    "print(names)\n",
    "names.append(\"Hamza\")\n",
    "print(names)"
   ]
  },
  {
   "cell_type": "code",
   "execution_count": 60,
   "id": "7a52d982",
   "metadata": {},
   "outputs": [
    {
     "name": "stdout",
     "output_type": "stream",
     "text": [
      "Enter Student Name | X for exitRehan\n",
      "Enter Student Name | X for exitAbid\n",
      "Enter Student Name | X for exitFarhan\n",
      "Enter Student Name | X for exitZohaib\n",
      "Enter Student Name | X for exitx\n"
     ]
    },
    {
     "data": {
      "text/plain": [
       "['Qasim', 'Asif', 'Hamza', 'Rehan', 'Abid', 'Farhan', 'Zohaib']"
      ]
     },
     "execution_count": 60,
     "metadata": {},
     "output_type": "execute_result"
    }
   ],
   "source": [
    "while True:\n",
    "    name1 = input(\"Enter Student Name | X for exit\")\n",
    "    if name1 == \"X\" or name1 ==\"x\":\n",
    "        break\n",
    "    names.append(name1)\n",
    "\n",
    "names"
   ]
  },
  {
   "cell_type": "code",
   "execution_count": 61,
   "id": "918499a8",
   "metadata": {},
   "outputs": [
    {
     "data": {
      "text/plain": [
       "['Qasim', 'Asif', 'Hamza', 'Rehan', 'Abid', 'Farhan', 'Zohaib']"
      ]
     },
     "execution_count": 61,
     "metadata": {},
     "output_type": "execute_result"
    }
   ],
   "source": [
    "st_names = names # shallow copy\n",
    "st_names"
   ]
  },
  {
   "cell_type": "code",
   "execution_count": 63,
   "id": "3347d334",
   "metadata": {},
   "outputs": [
    {
     "name": "stdout",
     "output_type": "stream",
     "text": [
      "['Muhammad Qasim', 'Asif', 'Hamza', 'Rehan', 'Abid', 'Farhan', 'Zohaib']\n",
      "['Muhammad Qasim', 'Asif', 'Hamza', 'Rehan', 'Abid', 'Farhan', 'Zohaib']\n"
     ]
    }
   ],
   "source": [
    "st_names[0] = \"Muhammad Qasim\"\n",
    "print(st_names)\n",
    "print(names)"
   ]
  },
  {
   "cell_type": "code",
   "execution_count": 64,
   "id": "b50b2a67",
   "metadata": {},
   "outputs": [
    {
     "name": "stdout",
     "output_type": "stream",
     "text": [
      "['Muhammad Qasim', 'Asif', 'Hamza', 'Rehan', 'Abid', 'Farhan', 'Zohaib']\n",
      "['Qasim', 'Asif', 'Hamza', 'Rehan', 'Abid', 'Farhan', 'Zohaib']\n"
     ]
    }
   ],
   "source": [
    "st_names1 = names.copy() # deep copy\n",
    "st_names1\n",
    "\n",
    "st_names1[0] = \"Qasim\"\n",
    "\n",
    "print(names)\n",
    "print(st_names1)"
   ]
  },
  {
   "cell_type": "code",
   "execution_count": null,
   "id": "9a45430a",
   "metadata": {},
   "outputs": [],
   "source": []
  }
 ],
 "metadata": {
  "kernelspec": {
   "display_name": "Python 3 (ipykernel)",
   "language": "python",
   "name": "python3"
  },
  "language_info": {
   "codemirror_mode": {
    "name": "ipython",
    "version": 3
   },
   "file_extension": ".py",
   "mimetype": "text/x-python",
   "name": "python",
   "nbconvert_exporter": "python",
   "pygments_lexer": "ipython3",
   "version": "3.11.4"
  }
 },
 "nbformat": 4,
 "nbformat_minor": 5
}
