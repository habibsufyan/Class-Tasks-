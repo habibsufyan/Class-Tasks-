{
 "cells": [
  {
   "cell_type": "code",
   "execution_count": 2,
   "id": "aba6c97c",
   "metadata": {},
   "outputs": [
    {
     "name": "stdout",
     "output_type": "stream",
     "text": [
      "<class 'str'>\n",
      "['__add__', '__class__', '__contains__', '__delattr__', '__dir__', '__doc__', '__eq__', '__format__', '__ge__', '__getattribute__', '__getitem__', '__getnewargs__', '__getstate__', '__gt__', '__hash__', '__init__', '__init_subclass__', '__iter__', '__le__', '__len__', '__lt__', '__mod__', '__mul__', '__ne__', '__new__', '__reduce__', '__reduce_ex__', '__repr__', '__rmod__', '__rmul__', '__setattr__', '__sizeof__', '__str__', '__subclasshook__', 'capitalize', 'casefold', 'center', 'count', 'encode', 'endswith', 'expandtabs', 'find', 'format', 'format_map', 'index', 'isalnum', 'isalpha', 'isascii', 'isdecimal', 'isdigit', 'isidentifier', 'islower', 'isnumeric', 'isprintable', 'isspace', 'istitle', 'isupper', 'join', 'ljust', 'lower', 'lstrip', 'maketrans', 'partition', 'removeprefix', 'removesuffix', 'replace', 'rfind', 'rindex', 'rjust', 'rpartition', 'rsplit', 'rstrip', 'split', 'splitlines', 'startswith', 'strip', 'swapcase', 'title', 'translate', 'upper', 'zfill']\n"
     ]
    }
   ],
   "source": [
    "a = \"Pakistan Zindabad!\"\n",
    "\n",
    "print (type(a))\n",
    "print (dir(a))"
   ]
  },
  {
   "cell_type": "markdown",
   "id": "0ee12ee4",
   "metadata": {},
   "source": [
    "# All Methods/Function, attributes/properties/field of Strings\n",
    "\n",
    "* method_name()\n",
    "* attribute_name"
   ]
  },
  {
   "cell_type": "markdown",
   "id": "876eb879",
   "metadata": {},
   "source": [
    "## capitalize', 'casefold', 'center', 'count', 'encode', 'endswith', 'expandtabs', 'find', 'format', 'format_map', 'index', 'isalnum', 'isalpha', 'isascii', 'isdecimal', 'isdigit', 'isidentifier', 'islower', 'isnumeric', 'isprintable', 'isspace', 'istitle', 'isupper', 'join', 'ljust', 'lower', 'lstrip', 'maketrans', 'partition', 'removeprefix', 'removesuffix', 'replace', 'rfind', 'rindex', 'rjust', 'rpartition', 'rsplit', 'rstrip', 'split', 'splitlines', 'startswith', 'strip', 'swapcase', 'title', 'translate', 'upper', 'zfill'"
   ]
  },
  {
   "cell_type": "code",
   "execution_count": 6,
   "id": "8e7359c3",
   "metadata": {},
   "outputs": [
    {
     "name": "stdout",
     "output_type": "stream",
     "text": [
      "Pakistan zindabad\n",
      "i love my country.\n"
     ]
    }
   ],
   "source": [
    "b = \"\"\"PakisTan ZinDabad\n",
    "I loVe my Country.\"\"\"\n",
    "\n",
    "print (b.capitalize())"
   ]
  },
  {
   "cell_type": "code",
   "execution_count": 8,
   "id": "0f609827",
   "metadata": {},
   "outputs": [
    {
     "name": "stdout",
     "output_type": "stream",
     "text": [
      "pakistan zindabad\n",
      "i love my country.\n"
     ]
    }
   ],
   "source": [
    "b = \"\"\"PakisTan ZinDabad\n",
    "I loVe my Country.\"\"\"\n",
    "\n",
    "print (b.casefold())"
   ]
  },
  {
   "cell_type": "code",
   "execution_count": 18,
   "id": "9bdbf07e",
   "metadata": {},
   "outputs": [
    {
     "data": {
      "text/plain": [
       "'          PakisTan ZinDabad           '"
      ]
     },
     "execution_count": 18,
     "metadata": {},
     "output_type": "execute_result"
    }
   ],
   "source": [
    "b = \"PakisTan ZinDabad\"\n",
    "b.center(38)"
   ]
  },
  {
   "cell_type": "code",
   "execution_count": 17,
   "id": "5d0983be",
   "metadata": {},
   "outputs": [
    {
     "name": "stdout",
     "output_type": "stream",
     "text": [
      "17\n"
     ]
    }
   ],
   "source": [
    "b = \"PakisTan ZinDabad\"\n",
    "\n",
    "print (len(b))"
   ]
  },
  {
   "cell_type": "code",
   "execution_count": 20,
   "id": "22ac2acb",
   "metadata": {},
   "outputs": [
    {
     "name": "stdout",
     "output_type": "stream",
     "text": [
      "17\n"
     ]
    }
   ],
   "source": [
    "b = \"PakisTan ZinDabad\"\n",
    "\n",
    "print (b.__len__())"
   ]
  },
  {
   "cell_type": "code",
   "execution_count": 25,
   "id": "701b71a7",
   "metadata": {},
   "outputs": [
    {
     "name": "stdout",
     "output_type": "stream",
     "text": [
      "4\n"
     ]
    }
   ],
   "source": [
    "b = \"\"\"PakisTan ZinDabad\n",
    "I loVe my Country.\"\"\"\n",
    "\n",
    "print (b.count(\"a\"))"
   ]
  },
  {
   "cell_type": "code",
   "execution_count": 28,
   "id": "eed94bbd",
   "metadata": {},
   "outputs": [
    {
     "name": "stdout",
     "output_type": "stream",
     "text": [
      "5\n"
     ]
    }
   ],
   "source": [
    "b = \"\"\"PakisTan ZinDabad\n",
    "I loVe my Country.\"\"\"\n",
    "\n",
    "print (b.count(\"a\") + b.count(\"u\"))"
   ]
  },
  {
   "cell_type": "code",
   "execution_count": 29,
   "id": "a38d4a04",
   "metadata": {},
   "outputs": [
    {
     "data": {
      "text/plain": [
       "5"
      ]
     },
     "execution_count": 29,
     "metadata": {},
     "output_type": "execute_result"
    }
   ],
   "source": [
    "b = \"\"\"PakisTan ZinDabad\n",
    "I loVe my Country.\"\"\"\n",
    "\n",
    "b.count(\"a\") + b.count(\"u\")"
   ]
  },
  {
   "cell_type": "code",
   "execution_count": 31,
   "id": "e310b18a",
   "metadata": {},
   "outputs": [
    {
     "name": "stdout",
     "output_type": "stream",
     "text": [
      "6\n"
     ]
    }
   ],
   "source": [
    "b = \"\"\"PakisTan ZinDabad\n",
    "I loVe my Country.\"\"\"\n",
    "b= (b.casefold())\n",
    "\n",
    "print (b.count(\"a\") + b.count(\"d\"))"
   ]
  },
  {
   "cell_type": "code",
   "execution_count": 36,
   "id": "40270dec",
   "metadata": {},
   "outputs": [
    {
     "name": "stdout",
     "output_type": "stream",
     "text": [
      "4 1\n"
     ]
    }
   ],
   "source": [
    "b = \"\"\"PakisTan ZinDabad\n",
    "I loVe my Country.\"\"\"\n",
    "\n",
    "print (b.count(\"a\") , b.count(\"u\"))"
   ]
  },
  {
   "cell_type": "code",
   "execution_count": 26,
   "id": "6d7cda03",
   "metadata": {},
   "outputs": [
    {
     "name": "stdout",
     "output_type": "stream",
     "text": [
      "b'PakisTan ZinDabad\\nI loVe my Country.'\n"
     ]
    }
   ],
   "source": [
    "b = \"\"\"PakisTan ZinDabad\n",
    "I loVe my Country.\"\"\"\n",
    "\n",
    "print (b.encode())"
   ]
  },
  {
   "cell_type": "code",
   "execution_count": 37,
   "id": "5f68ba08",
   "metadata": {},
   "outputs": [
    {
     "name": "stdout",
     "output_type": "stream",
     "text": [
      "b'My name is St\\xc3\\xa5le'\n"
     ]
    }
   ],
   "source": [
    "txt = \"My name is Ståle\"\n",
    "\n",
    "x = txt.encode()\n",
    "\n",
    "print(x)"
   ]
  },
  {
   "cell_type": "code",
   "execution_count": 38,
   "id": "7d978b62",
   "metadata": {},
   "outputs": [
    {
     "name": "stdout",
     "output_type": "stream",
     "text": [
      "b'My name is St\\\\xe5le'\n",
      "b'My name is Stle'\n",
      "b'My name is St\\\\N{LATIN SMALL LETTER A WITH RING ABOVE}le'\n",
      "b'My name is St?le'\n",
      "b'My name is St&#229;le'\n"
     ]
    }
   ],
   "source": [
    "txt = \"My name is Ståle\"\n",
    "\n",
    "print(txt.encode(encoding=\"ascii\",errors=\"backslashreplace\"))\n",
    "print(txt.encode(encoding=\"ascii\",errors=\"ignore\"))\n",
    "print(txt.encode(encoding=\"ascii\",errors=\"namereplace\"))\n",
    "print(txt.encode(encoding=\"ascii\",errors=\"replace\"))\n",
    "print(txt.encode(encoding=\"ascii\",errors=\"xmlcharrefreplace\"))"
   ]
  },
  {
   "cell_type": "code",
   "execution_count": 42,
   "id": "5b73a837",
   "metadata": {},
   "outputs": [
    {
     "name": "stdout",
     "output_type": "stream",
     "text": [
      "True\n",
      "True\n"
     ]
    }
   ],
   "source": [
    "b = \"\"\"PakisTan ZinDabad\n",
    "I loVe my Country.\"\"\"\n",
    "\n",
    "print (b.endswith(\".\"))\n",
    "print (b.endswith(\"try.\"))"
   ]
  },
  {
   "cell_type": "code",
   "execution_count": 43,
   "id": "7a47785e",
   "metadata": {},
   "outputs": [
    {
     "name": "stdout",
     "output_type": "stream",
     "text": [
      "False\n",
      "True\n"
     ]
    }
   ],
   "source": [
    "b = \"\"\"PakisTan ZinDabad\n",
    "I loVe my Country.\"\"\"\n",
    "\n",
    "print (b.startswith(\".\"))\n",
    "print (b.startswith(\"Pak\"))"
   ]
  },
  {
   "cell_type": "code",
   "execution_count": 45,
   "id": "26814229",
   "metadata": {},
   "outputs": [
    {
     "name": "stdout",
     "output_type": "stream",
     "text": [
      "NED Univeristy\n",
      "Batch 5\n",
      "Name:\tHabib ur Rehman\n",
      "Roll No:\t10065385\n"
     ]
    }
   ],
   "source": [
    "card = \"\"\"NED Univeristy\n",
    "Batch 5\n",
    "Name:\\tHabib ur Rehman\n",
    "Roll No:\\t10065385\"\"\"\n",
    "\n",
    "\n",
    "print (card)"
   ]
  },
  {
   "cell_type": "code",
   "execution_count": 46,
   "id": "e7de5064",
   "metadata": {},
   "outputs": [
    {
     "name": "stdout",
     "output_type": "stream",
     "text": [
      "NED Univeristy\n",
      "Batch 5\n",
      "Name:               Habib ur Rehman\n",
      "Roll No:            10065385\n"
     ]
    }
   ],
   "source": [
    "card = \"\"\"NED Univeristy\n",
    "Batch 5\n",
    "Name:\\tHabib ur Rehman\n",
    "Roll No:\\t10065385\"\"\"\n",
    "\n",
    "\n",
    "print (card.expandtabs(20))"
   ]
  },
  {
   "cell_type": "code",
   "execution_count": 58,
   "id": "cbdcd976",
   "metadata": {},
   "outputs": [
    {
     "data": {
      "text/plain": [
       "'Habib ur rehman'"
      ]
     },
     "execution_count": 58,
     "metadata": {},
     "output_type": "execute_result"
    }
   ],
   "source": [
    "b = \"    Habib ur rehman   \"\n",
    "b.strip()"
   ]
  },
  {
   "cell_type": "code",
   "execution_count": 56,
   "id": "b1c2f3c0",
   "metadata": {},
   "outputs": [
    {
     "data": {
      "text/plain": [
       "'Habib ur rehman   '"
      ]
     },
     "execution_count": 56,
     "metadata": {},
     "output_type": "execute_result"
    }
   ],
   "source": [
    "b = \"    Habib ur rehman   \"\n",
    "b.lstrip()"
   ]
  },
  {
   "cell_type": "code",
   "execution_count": 59,
   "id": "1c12defb",
   "metadata": {},
   "outputs": [
    {
     "data": {
      "text/plain": [
       "'    Habib ur rehman'"
      ]
     },
     "execution_count": 59,
     "metadata": {},
     "output_type": "execute_result"
    }
   ],
   "source": [
    "b = \"    Habib ur rehman   \"\n",
    "b.rstrip()"
   ]
  },
  {
   "cell_type": "code",
   "execution_count": 60,
   "id": "344b6088",
   "metadata": {},
   "outputs": [
    {
     "data": {
      "text/plain": [
       "'Habib      ur     rehman'"
      ]
     },
     "execution_count": 60,
     "metadata": {},
     "output_type": "execute_result"
    }
   ],
   "source": [
    "b = \"    Habib      ur     rehman   \"\n",
    "b.strip()"
   ]
  },
  {
   "cell_type": "code",
   "execution_count": 66,
   "id": "ec1bd565",
   "metadata": {},
   "outputs": [
    {
     "data": {
      "text/plain": [
       "'PakArmy ZinDabad.I loVe my Country.'"
      ]
     },
     "execution_count": 66,
     "metadata": {},
     "output_type": "execute_result"
    }
   ],
   "source": [
    "b = \"\"\"PakisTan ZinDabad.\\\n",
    "I loVe my Country.\"\"\"\n",
    "\n",
    "b.replace(\"PakisTan\", \"PakArmy\")"
   ]
  },
  {
   "cell_type": "code",
   "execution_count": 70,
   "id": "ce315cf3",
   "metadata": {},
   "outputs": [
    {
     "data": {
      "text/plain": [
       "28"
      ]
     },
     "execution_count": 70,
     "metadata": {},
     "output_type": "execute_result"
    }
   ],
   "source": [
    "b = \"\"\"PakisTan ZinDabad\n",
    "I loVe my Country.\"\"\"\n",
    "\n",
    "b.find(\"Country.\")"
   ]
  },
  {
   "cell_type": "code",
   "execution_count": 74,
   "id": "a7d1a080",
   "metadata": {},
   "outputs": [
    {
     "data": {
      "text/plain": [
       "9"
      ]
     },
     "execution_count": 74,
     "metadata": {},
     "output_type": "execute_result"
    }
   ],
   "source": [
    "b = \"\"\"PakisTan ZinDabad\n",
    "I loVe my Country.\"\"\"\n",
    "\n",
    "b.find(\"ZinDabad\")"
   ]
  },
  {
   "cell_type": "code",
   "execution_count": 102,
   "id": "4eb00c4d",
   "metadata": {},
   "outputs": [
    {
     "name": "stdout",
     "output_type": "stream",
     "text": [
      "5\n"
     ]
    },
    {
     "data": {
      "text/html": [
       "<div>\n",
       "<style scoped>\n",
       "    .dataframe tbody tr th:only-of-type {\n",
       "        vertical-align: middle;\n",
       "    }\n",
       "\n",
       "    .dataframe tbody tr th {\n",
       "        vertical-align: top;\n",
       "    }\n",
       "\n",
       "    .dataframe thead th {\n",
       "        text-align: right;\n",
       "    }\n",
       "</style>\n",
       "<table border=\"1\" class=\"dataframe\">\n",
       "  <thead>\n",
       "    <tr style=\"text-align: right;\">\n",
       "      <th></th>\n",
       "      <th>CNIC</th>\n",
       "    </tr>\n",
       "  </thead>\n",
       "  <tbody>\n",
       "    <tr>\n",
       "      <th>0</th>\n",
       "      <td>3130315904511</td>\n",
       "    </tr>\n",
       "    <tr>\n",
       "      <th>1</th>\n",
       "      <td>4220112706345</td>\n",
       "    </tr>\n",
       "    <tr>\n",
       "      <th>2</th>\n",
       "      <td>4200066399757</td>\n",
       "    </tr>\n",
       "    <tr>\n",
       "      <th>3</th>\n",
       "      <td>4220158211299</td>\n",
       "    </tr>\n",
       "    <tr>\n",
       "      <th>4</th>\n",
       "      <td>4210149417695</td>\n",
       "    </tr>\n",
       "  </tbody>\n",
       "</table>\n",
       "</div>"
      ],
      "text/plain": [
       "            CNIC\n",
       "0  3130315904511\n",
       "1  4220112706345\n",
       "2  4200066399757\n",
       "3  4220158211299\n",
       "4  4210149417695"
      ]
     },
     "execution_count": 102,
     "metadata": {},
     "output_type": "execute_result"
    }
   ],
   "source": [
    "text = \"\"\"\n",
    "Imran Haider2:26 PM\n",
    "3130315904511\n",
    "Muhammad Abubakar2:26 PM\n",
    "42201-1270634-5\n",
    "Aamir Pingal2:26 PM\n",
    "423012945634\n",
    "Talaal Yousoof2:26 PM\n",
    "4220158211299\n",
    "Ahmed Naseem2:26 PM\n",
    "4200066399757\n",
    "Muhammad Ovais2:26 PM\n",
    "42101-4941-769-5\n",
    "\"\"\"\n",
    "\n",
    "import re\n",
    "import pandas as pd\n",
    "\n",
    "text = text.replace(\"-\",\"\")\n",
    "\n",
    "\n",
    "cnic = re.findall('\\d{13}',text)\n",
    "cnic = list(set(cnic))\n",
    "print(len(cnic))\n",
    "\n",
    "df = pd.DataFrame({\"CNIC\":cnic})\n",
    "df.to_excel(\"class attendance.xlsx\", index=False)\n",
    "\n",
    "df"
   ]
  },
  {
   "cell_type": "code",
   "execution_count": 150,
   "id": "a67bd326",
   "metadata": {},
   "outputs": [
    {
     "data": {
      "text/plain": [
       "['Imran Haider',\n",
       " 'Muhammad Abubakar',\n",
       " 'Aamir Pingal',\n",
       " 'Talaal Yousoof',\n",
       " 'Ahmed Naseem',\n",
       " 'Muhammad Ovais']"
      ]
     },
     "execution_count": 150,
     "metadata": {},
     "output_type": "execute_result"
    }
   ],
   "source": [
    "text = \"\"\"\n",
    "Imran Haider2:26 PM\n",
    "3130315904511\n",
    "Muhammad Abubakar2:26 PM\n",
    "42201-1270634-5\n",
    "Aamir Pingal2:26 PM\n",
    "423012945634\n",
    "Talaal Yousoof2:26 PM\n",
    "4220158211299\n",
    "Ahmed Naseem2:26 PM\n",
    "4200066399757\n",
    "Muhammad Ovais2:26 PM\n",
    "42101-4941-769-5\n",
    "\"\"\"\n",
    "\n",
    "import re\n",
    "\n",
    "name = re.findall(\"(.*)\\d+:\\d+ PM\",text)\n",
    "\n",
    "name"
   ]
  },
  {
   "cell_type": "code",
   "execution_count": 151,
   "id": "0497bc2f",
   "metadata": {},
   "outputs": [
    {
     "data": {
      "text/html": [
       "<div>\n",
       "<style scoped>\n",
       "    .dataframe tbody tr th:only-of-type {\n",
       "        vertical-align: middle;\n",
       "    }\n",
       "\n",
       "    .dataframe tbody tr th {\n",
       "        vertical-align: top;\n",
       "    }\n",
       "\n",
       "    .dataframe thead th {\n",
       "        text-align: right;\n",
       "    }\n",
       "</style>\n",
       "<table border=\"1\" class=\"dataframe\">\n",
       "  <thead>\n",
       "    <tr style=\"text-align: right;\">\n",
       "      <th></th>\n",
       "      <th>NAME</th>\n",
       "      <th>CNIC</th>\n",
       "    </tr>\n",
       "  </thead>\n",
       "  <tbody>\n",
       "    <tr>\n",
       "      <th>0</th>\n",
       "      <td>Imran Haider</td>\n",
       "      <td>3130315904511</td>\n",
       "    </tr>\n",
       "    <tr>\n",
       "      <th>1</th>\n",
       "      <td>Muhammad Abubakar</td>\n",
       "      <td>4220112706345</td>\n",
       "    </tr>\n",
       "    <tr>\n",
       "      <th>2</th>\n",
       "      <td>Aamir Pingal</td>\n",
       "      <td>4230912945634</td>\n",
       "    </tr>\n",
       "    <tr>\n",
       "      <th>3</th>\n",
       "      <td>Talaal Yousoof</td>\n",
       "      <td>4220158211299</td>\n",
       "    </tr>\n",
       "    <tr>\n",
       "      <th>4</th>\n",
       "      <td>Ahmed Naseem</td>\n",
       "      <td>4200066399757</td>\n",
       "    </tr>\n",
       "    <tr>\n",
       "      <th>5</th>\n",
       "      <td>Muhammad Ovais</td>\n",
       "      <td>4210149417695</td>\n",
       "    </tr>\n",
       "  </tbody>\n",
       "</table>\n",
       "</div>"
      ],
      "text/plain": [
       "                NAME           CNIC\n",
       "0       Imran Haider  3130315904511\n",
       "1  Muhammad Abubakar  4220112706345\n",
       "2       Aamir Pingal  4230912945634\n",
       "3     Talaal Yousoof  4220158211299\n",
       "4       Ahmed Naseem  4200066399757\n",
       "5     Muhammad Ovais  4210149417695"
      ]
     },
     "execution_count": 151,
     "metadata": {},
     "output_type": "execute_result"
    }
   ],
   "source": [
    "text = \"\"\"Imran Haider2:26 PM\n",
    "3130315904511\n",
    "Muhammad Abubakar2:26 PM\n",
    "42201-1270634-5\n",
    "Aamir Pingal2:26 PM\n",
    "4230912945634\n",
    "Talaal Yousoof2:26 PM\n",
    "4220158211299\n",
    "Ahmed Naseem2:26 PM\n",
    "4200066399757\n",
    "Muhammad Ovais2:26 PM\n",
    "42101-4941-769-5\n",
    "\"\"\"\n",
    "\n",
    "import re\n",
    "import pandas as pd\n",
    "\n",
    "text = text.replace(\"-\",\"\")\n",
    "\n",
    "name = re.findall(\"(.*)\\d+:\\d+ PM\",text)\n",
    "cnic = re.findall('\\d{13}',text)\n",
    "\n",
    "df = pd.DataFrame({\"NAME\":name,\"CNIC\":cnic})\n",
    "df.to_excel(\"class3_attendance.xlsx\", index=False)\n",
    "\n",
    "\n",
    "\n",
    "df\n",
    "\n"
   ]
  },
  {
   "cell_type": "code",
   "execution_count": 170,
   "id": "4a65a17b",
   "metadata": {},
   "outputs": [
    {
     "data": {
      "text/html": [
       "<div>\n",
       "<style scoped>\n",
       "    .dataframe tbody tr th:only-of-type {\n",
       "        vertical-align: middle;\n",
       "    }\n",
       "\n",
       "    .dataframe tbody tr th {\n",
       "        vertical-align: top;\n",
       "    }\n",
       "\n",
       "    .dataframe thead th {\n",
       "        text-align: right;\n",
       "    }\n",
       "</style>\n",
       "<table border=\"1\" class=\"dataframe\">\n",
       "  <thead>\n",
       "    <tr style=\"text-align: right;\">\n",
       "      <th></th>\n",
       "      <th>Time</th>\n",
       "      <th>Name</th>\n",
       "      <th>Roll No</th>\n",
       "    </tr>\n",
       "  </thead>\n",
       "  <tbody>\n",
       "    <tr>\n",
       "      <th>0</th>\n",
       "      <td>12:05:40</td>\n",
       "      <td>Ali Asar</td>\n",
       "      <td>PIAIC-187258</td>\n",
       "    </tr>\n",
       "    <tr>\n",
       "      <th>1</th>\n",
       "      <td>12:05:41</td>\n",
       "      <td>Hasnain Munir</td>\n",
       "      <td>PIAIC-187272</td>\n",
       "    </tr>\n",
       "    <tr>\n",
       "      <th>2</th>\n",
       "      <td>12:05:44</td>\n",
       "      <td>Shaheer Baig</td>\n",
       "      <td>PIAIC-169519</td>\n",
       "    </tr>\n",
       "    <tr>\n",
       "      <th>3</th>\n",
       "      <td>12:05:45</td>\n",
       "      <td>Humera Naz</td>\n",
       "      <td>PIAIC-173431</td>\n",
       "    </tr>\n",
       "    <tr>\n",
       "      <th>4</th>\n",
       "      <td>12:05:47</td>\n",
       "      <td>Sadia Anwar</td>\n",
       "      <td>PIAIC-180028</td>\n",
       "    </tr>\n",
       "    <tr>\n",
       "      <th>5</th>\n",
       "      <td>12:05:47</td>\n",
       "      <td>Muhammad Mehroz</td>\n",
       "      <td>PIAIC-131496</td>\n",
       "    </tr>\n",
       "    <tr>\n",
       "      <th>6</th>\n",
       "      <td>12:05:47</td>\n",
       "      <td>Home</td>\n",
       "      <td>PIAIC-172998</td>\n",
       "    </tr>\n",
       "    <tr>\n",
       "      <th>7</th>\n",
       "      <td>12:05:47</td>\n",
       "      <td>Muhammad Sadullah = PIAIC-178950</td>\n",
       "      <td>PIAIC-178950</td>\n",
       "    </tr>\n",
       "    <tr>\n",
       "      <th>8</th>\n",
       "      <td>12:05:48</td>\n",
       "      <td>Muhammad Uzair-177637</td>\n",
       "      <td>PIAIC-177637</td>\n",
       "    </tr>\n",
       "    <tr>\n",
       "      <th>9</th>\n",
       "      <td>12:05:48</td>\n",
       "      <td>Taqwa Khaliq</td>\n",
       "      <td>PIAIC-173701</td>\n",
       "    </tr>\n",
       "    <tr>\n",
       "      <th>10</th>\n",
       "      <td>12:05:49</td>\n",
       "      <td>Faisal Bashir-177802</td>\n",
       "      <td>PIAIC-177802</td>\n",
       "    </tr>\n",
       "    <tr>\n",
       "      <th>11</th>\n",
       "      <td>12:05:50</td>\n",
       "      <td>Talha Munir Rana</td>\n",
       "      <td>PIAIC-173761</td>\n",
       "    </tr>\n",
       "    <tr>\n",
       "      <th>12</th>\n",
       "      <td>12:05:52</td>\n",
       "      <td>Abdul Qadar</td>\n",
       "      <td>PIAIC-172941</td>\n",
       "    </tr>\n",
       "    <tr>\n",
       "      <th>13</th>\n",
       "      <td>12:05:57</td>\n",
       "      <td>Dr. Bhagwan Das</td>\n",
       "      <td>PIAIC-96879</td>\n",
       "    </tr>\n",
       "    <tr>\n",
       "      <th>14</th>\n",
       "      <td>12:05:57</td>\n",
       "      <td>Uzair Ullah (PIAIC169405)</td>\n",
       "      <td>PIAIC-169405</td>\n",
       "    </tr>\n",
       "    <tr>\n",
       "      <th>15</th>\n",
       "      <td>12:06:00</td>\n",
       "      <td>Arshad</td>\n",
       "      <td>PIAIC168092</td>\n",
       "    </tr>\n",
       "    <tr>\n",
       "      <th>16</th>\n",
       "      <td>12:06:01</td>\n",
       "      <td>PIAIC188523 Subhan Ahmed</td>\n",
       "      <td>PIAIC188523</td>\n",
       "    </tr>\n",
       "    <tr>\n",
       "      <th>17</th>\n",
       "      <td>12:06:10</td>\n",
       "      <td>Ali Asar</td>\n",
       "      <td>PIAIC-188720</td>\n",
       "    </tr>\n",
       "    <tr>\n",
       "      <th>18</th>\n",
       "      <td>12:06:28</td>\n",
       "      <td>Gulshan Ali</td>\n",
       "      <td>PIAIC-176719</td>\n",
       "    </tr>\n",
       "    <tr>\n",
       "      <th>19</th>\n",
       "      <td>12:06:29</td>\n",
       "      <td>M Ali Asif Khan - PIAIC-57947</td>\n",
       "      <td>PIAIC-57947</td>\n",
       "    </tr>\n",
       "    <tr>\n",
       "      <th>20</th>\n",
       "      <td>12:06:33</td>\n",
       "      <td>Usman Noor PIAIC-188401</td>\n",
       "      <td>PIAIC-188401</td>\n",
       "    </tr>\n",
       "    <tr>\n",
       "      <th>21</th>\n",
       "      <td>12:06:49</td>\n",
       "      <td>Sohaib Baseer Ahmad</td>\n",
       "      <td>PIAIC67260</td>\n",
       "    </tr>\n",
       "    <tr>\n",
       "      <th>22</th>\n",
       "      <td>12:40:20</td>\n",
       "      <td>Ali Asar</td>\n",
       "      <td>PIAIC-187258</td>\n",
       "    </tr>\n",
       "  </tbody>\n",
       "</table>\n",
       "</div>"
      ],
      "text/plain": [
       "        Time                              Name       Roll No\n",
       "0   12:05:40                          Ali Asar  PIAIC-187258\n",
       "1   12:05:41                     Hasnain Munir  PIAIC-187272\n",
       "2   12:05:44                      Shaheer Baig  PIAIC-169519\n",
       "3   12:05:45                        Humera Naz  PIAIC-173431\n",
       "4   12:05:47                       Sadia Anwar  PIAIC-180028\n",
       "5   12:05:47                   Muhammad Mehroz  PIAIC-131496\n",
       "6   12:05:47                              Home  PIAIC-172998\n",
       "7   12:05:47  Muhammad Sadullah = PIAIC-178950  PIAIC-178950\n",
       "8   12:05:48             Muhammad Uzair-177637  PIAIC-177637\n",
       "9   12:05:48                      Taqwa Khaliq  PIAIC-173701\n",
       "10  12:05:49              Faisal Bashir-177802  PIAIC-177802\n",
       "11  12:05:50                  Talha Munir Rana  PIAIC-173761\n",
       "12  12:05:52                       Abdul Qadar  PIAIC-172941\n",
       "13  12:05:57                   Dr. Bhagwan Das   PIAIC-96879\n",
       "14  12:05:57         Uzair Ullah (PIAIC169405)  PIAIC-169405\n",
       "15  12:06:00                            Arshad   PIAIC168092\n",
       "16  12:06:01          PIAIC188523 Subhan Ahmed   PIAIC188523\n",
       "17  12:06:10                          Ali Asar  PIAIC-188720\n",
       "18  12:06:28                       Gulshan Ali  PIAIC-176719\n",
       "19  12:06:29     M Ali Asif Khan - PIAIC-57947   PIAIC-57947\n",
       "20  12:06:33           Usman Noor PIAIC-188401  PIAIC-188401\n",
       "21  12:06:49               Sohaib Baseer Ahmad    PIAIC67260\n",
       "22  12:40:20                          Ali Asar  PIAIC-187258"
      ]
     },
     "execution_count": 170,
     "metadata": {},
     "output_type": "execute_result"
    }
   ],
   "source": [
    "data = \"\"\"\n",
    "\n",
    "12:05:40 From Ali Asar To Everyone : PIAIC-187258\n",
    "12:05:41 From Hasnain Munir To Everyone : PIAIC-187272\n",
    "12:05:44 From Shaheer Baig To Everyone : PIAIC-169519\n",
    "12:05:45 From Humera Naz To Everyone : PIAIC-173431\n",
    "12:05:47 From Sadia Anwar To Everyone : PIAIC-180028\n",
    "12:05:47 From Muhammad Mehroz To Everyone : PIAIC-131496\n",
    "12:05:47 From Home To Everyone : PIAIC-172998\n",
    "12:05:47 From Muhammad Sadullah = PIAIC-178950 To Everyone : PIAIC-178950\n",
    "12:05:48 From Muhammad Uzair-177637 To Everyone : PIAIC-177637\n",
    "12:05:48 From Taqwa Khaliq To Everyone : PIAIC-173701 TAQWA KHALIQ\n",
    "12:05:48 From asghar ibraheem CNC-012105 To Everyone : CNC-012105\n",
    "12:05:49 From Faisal Bashir-177802 To Everyone : PIAIC-177802\n",
    "12:05:50 From Talha Munir Rana To Everyone : PIAIC-173761\n",
    "12:05:52 From Abdul Qadar To Everyone : PIAIC-172941\n",
    "12:05:57 From Dr. Bhagwan Das To Everyone : PIAIC-96879\n",
    "12:05:57 From Uzair Ullah (PIAIC169405) To Everyone : PIAIC-169405\n",
    "12:06:00 From Arshad To Everyone : PIAIC168092\n",
    "12:06:01 From PIAIC188523 Subhan Ahmed To Everyone : PIAIC188523\n",
    "12:06:04 From Taqwa Khaliq To Everyone : PIAIC 173701\n",
    "12:06:10 From Ali Asar To Everyone : PIAIC-188720\n",
    "12:06:23 From Mohammad Javed To Everyone : WhatsApp number?\n",
    "12:06:28 From Gulshan Ali To Everyone : PIAIC-176719\n",
    "12:06:29 From M Ali Asif Khan - PIAIC-57947 To Everyone : PIAIC-57947\n",
    "12:06:33 From Usman Noor PIAIC-188401 To Everyone : PIAIC-188401\n",
    "12:06:46 From Zia (piaic121514) To Everyone : thanks\n",
    "12:06:49 From Sohaib Baseer Ahmad To Everyone : PIAIC67260\n",
    "12:40:20 From Ali Asar To Everyone : PIAIC-187258\n",
    "\n",
    "\"\"\"\n",
    "\n",
    "import re\n",
    "\n",
    "\n",
    "d = re.findall(\"(\\d{2}:\\d{2}:\\d{2}) From (.*?) To Everyone : (PIAIC-?\\d{5,6})\", data)\n",
    "\n",
    "d = pd.DataFrame(d,columns=[\"Time\",\"Name\",\"Roll No\"])\n",
    "\n",
    "d"
   ]
  },
  {
   "cell_type": "code",
   "execution_count": null,
   "id": "ebd2d9c2",
   "metadata": {},
   "outputs": [],
   "source": []
  }
 ],
 "metadata": {
  "kernelspec": {
   "display_name": "Python 3 (ipykernel)",
   "language": "python",
   "name": "python3"
  },
  "language_info": {
   "codemirror_mode": {
    "name": "ipython",
    "version": 3
   },
   "file_extension": ".py",
   "mimetype": "text/x-python",
   "name": "python",
   "nbconvert_exporter": "python",
   "pygments_lexer": "ipython3",
   "version": "3.11.4"
  }
 },
 "nbformat": 4,
 "nbformat_minor": 5
}
